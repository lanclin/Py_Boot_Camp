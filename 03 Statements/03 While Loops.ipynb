{
 "cells": [
  {
   "cell_type": "markdown",
   "metadata": {},
   "source": [
    "## While Loops\n",
    "\n",
    "    - Until the condition matches\n",
    "    \n",
    "    While some_boolean_condition\n",
    "        # Code Block to do something\n",
    "    else:\n",
    "        # Code Block to do something\n",
    "    \n",
    "#### Break - Breaks out of the current closest loop\n",
    "#### Continue - Goes to the top of the closest loop\n",
    "#### Pass  - Does nothing at all"
   ]
  },
  {
   "cell_type": "code",
   "execution_count": 1,
   "metadata": {
    "collapsed": false
   },
   "outputs": [
    {
     "name": "stdout",
     "output_type": "stream",
     "text": [
      "This is value of X 0\n",
      "This is value of X 1\n",
      "This is value of X 2\n",
      "This is value of X 3\n",
      "This is value of X 4\n"
     ]
    }
   ],
   "source": [
    "x = 0\n",
    "\n",
    "while x < 5:\n",
    "    print (f\"This is value of X {x}\")\n",
    "    x += 1"
   ]
  },
  {
   "cell_type": "code",
   "execution_count": 3,
   "metadata": {
    "collapsed": false
   },
   "outputs": [
    {
     "name": "stdout",
     "output_type": "stream",
     "text": [
      "This is value of X 0\n",
      "This is value of X 1\n",
      "This is value of X 2\n",
      "This is value of X 3\n",
      "This is value of X 4\n",
      "Value of X NOT Lesser than 5 5\n"
     ]
    }
   ],
   "source": [
    "x = 0\n",
    "\n",
    "while x < 5:\n",
    "    print (f\"This is value of X {x}\")\n",
    "    x = x + 1\n",
    "else: \n",
    "    print(f\"Value of X NOT Lesser than 5 {x}\")"
   ]
  },
  {
   "cell_type": "code",
   "execution_count": 4,
   "metadata": {
    "collapsed": false
   },
   "outputs": [
    {
     "name": "stdout",
     "output_type": "stream",
     "text": [
      "Value of X NOT Lesser than 5 50\n"
     ]
    }
   ],
   "source": [
    "x = 50\n",
    "\n",
    "while x < 5:\n",
    "    print (f\"This is value of X {x}\")\n",
    "    x = x + 1\n",
    "else: \n",
    "    print(f\"Value of X NOT Lesser than 5 {x}\")"
   ]
  },
  {
   "cell_type": "code",
   "execution_count": 5,
   "metadata": {
    "collapsed": false
   },
   "outputs": [
    {
     "ename": "IndentationError",
     "evalue": "expected an indented block (<ipython-input-5-34896492bae1>, line 6)",
     "output_type": "error",
     "traceback": [
      "\u001b[0;36m  File \u001b[0;32m\"<ipython-input-5-34896492bae1>\"\u001b[0;36m, line \u001b[0;32m6\u001b[0m\n\u001b[0;31m    print (\"End of this script\")\u001b[0m\n\u001b[0m        ^\u001b[0m\n\u001b[0;31mIndentationError\u001b[0m\u001b[0;31m:\u001b[0m expected an indented block\n"
     ]
    }
   ],
   "source": [
    "nums = [1,2,3,4,5]\n",
    "\n",
    "for i in nums:\n",
    "    #comment\n",
    "    \n",
    "print (\"End of this script\")"
   ]
  },
  {
   "cell_type": "code",
   "execution_count": 6,
   "metadata": {
    "collapsed": false
   },
   "outputs": [
    {
     "name": "stdout",
     "output_type": "stream",
     "text": [
      "End of this script\n"
     ]
    }
   ],
   "source": [
    "nums = [1,2,3,4,5]\n",
    "\n",
    "for i in nums:\n",
    "    #comment\n",
    "    pass\n",
    "\n",
    "print(\"End of this script\")"
   ]
  },
  {
   "cell_type": "code",
   "execution_count": 7,
   "metadata": {
    "collapsed": false
   },
   "outputs": [
    {
     "name": "stdout",
     "output_type": "stream",
     "text": [
      "L\n",
      "a\n",
      "n\n",
      "c\n",
      "l\n",
      "i\n",
      "n\n"
     ]
    }
   ],
   "source": [
    "mystring = \"Lanclin\"\n",
    "\n",
    "for i in mystring:\n",
    "    print(i)\n"
   ]
  },
  {
   "cell_type": "code",
   "execution_count": 11,
   "metadata": {
    "collapsed": false
   },
   "outputs": [
    {
     "name": "stdout",
     "output_type": "stream",
     "text": [
      "L\n",
      "a\n",
      "There was n so skip that\n",
      "c\n",
      "l\n",
      "i\n",
      "There was n so skip that\n"
     ]
    }
   ],
   "source": [
    "mystring = \"Lanclin\"\n",
    "\n",
    "for i in mystring:\n",
    "    if i == 'n':\n",
    "        print(\"There was n so skip that\")\n",
    "        continue\n",
    "    print(i)"
   ]
  },
  {
   "cell_type": "code",
   "execution_count": 12,
   "metadata": {
    "collapsed": false
   },
   "outputs": [
    {
     "name": "stdout",
     "output_type": "stream",
     "text": [
      "L\n",
      "a\n",
      "c\n",
      "l\n",
      "i\n"
     ]
    }
   ],
   "source": [
    "mystring = \"Lanclin\"\n",
    "\n",
    "for i in mystring:\n",
    "    if i == 'n':\n",
    "        continue\n",
    "    print(i)"
   ]
  },
  {
   "cell_type": "code",
   "execution_count": 13,
   "metadata": {
    "collapsed": false
   },
   "outputs": [
    {
     "name": "stdout",
     "output_type": "stream",
     "text": [
      "L\n",
      "a\n"
     ]
    }
   ],
   "source": [
    "mystring = \"Lanclin\"\n",
    "\n",
    "for i in mystring:\n",
    "    if i == 'n':\n",
    "        break\n",
    "    print(i)"
   ]
  },
  {
   "cell_type": "code",
   "execution_count": 15,
   "metadata": {
    "collapsed": false
   },
   "outputs": [
    {
     "name": "stdout",
     "output_type": "stream",
     "text": [
      "Value is 1\n",
      "Value is 2\n",
      "Value is 3\n"
     ]
    }
   ],
   "source": [
    "x = 0 \n",
    "\n",
    "while x < 6:\n",
    "    if x == 3:\n",
    "        break\n",
    "    x = x + 1\n",
    "    print(f'Value is {x}')"
   ]
  },
  {
   "cell_type": "code",
   "execution_count": 16,
   "metadata": {
    "collapsed": false
   },
   "outputs": [
    {
     "name": "stdout",
     "output_type": "stream",
     "text": [
      "Value is 1\n",
      "Value is 2\n",
      "Value is 3\n",
      "Value is 4\n",
      "Value is 5\n",
      "Value is 6\n"
     ]
    }
   ],
   "source": [
    "x = 0 \n",
    "\n",
    "while x < 6:\n",
    "    #if x == 3:\n",
    "    #    break\n",
    "    x = x + 1\n",
    "    print(f'Value is {x}')"
   ]
  },
  {
   "cell_type": "code",
   "execution_count": null,
   "metadata": {
    "collapsed": true
   },
   "outputs": [],
   "source": []
  }
 ],
 "metadata": {
  "kernelspec": {
   "display_name": "Python 3",
   "language": "python",
   "name": "python3"
  },
  "language_info": {
   "codemirror_mode": {
    "name": "ipython",
    "version": 3
   },
   "file_extension": ".py",
   "mimetype": "text/x-python",
   "name": "python",
   "nbconvert_exporter": "python",
   "pygments_lexer": "ipython3",
   "version": "3.6.0"
  }
 },
 "nbformat": 4,
 "nbformat_minor": 2
}
