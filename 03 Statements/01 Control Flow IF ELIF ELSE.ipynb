{
 "cells": [
  {
   "cell_type": "markdown",
   "metadata": {},
   "source": [
    "# Control Flow IF ELIF ELSE Statements\n",
    "\n",
    "\n",
    "#### If (Some Condition)\n",
    "     Code Block\n",
    "#### elif ( Some other condition)\n",
    "     Code Block \n",
    "#### else \n",
    "     Code Block "
   ]
  },
  {
   "cell_type": "code",
   "execution_count": 1,
   "metadata": {
    "collapsed": false
   },
   "outputs": [
    {
     "name": "stdout",
     "output_type": "stream",
     "text": [
      "This is true Statement!\n"
     ]
    }
   ],
   "source": [
    "if True:\n",
    "    print(\"This is true Statement!\")"
   ]
  },
  {
   "cell_type": "code",
   "execution_count": 2,
   "metadata": {
    "collapsed": false
   },
   "outputs": [
    {
     "name": "stdout",
     "output_type": "stream",
     "text": [
      "Ready set go for Play\n"
     ]
    }
   ],
   "source": [
    "play = True\n",
    "work = False\n",
    "\n",
    "if play:\n",
    "    print(\"Ready set go for Play\")\n",
    "else:\n",
    "    print(\"Not Ready for Play\")\n"
   ]
  },
  {
   "cell_type": "code",
   "execution_count": 3,
   "metadata": {
    "collapsed": false
   },
   "outputs": [
    {
     "name": "stdout",
     "output_type": "stream",
     "text": [
      "Ready set go for Play!.. \n"
     ]
    }
   ],
   "source": [
    "play = True\n",
    "work = True\n",
    "\n",
    "if play:\n",
    "    print(\"Ready set go for Play!.. \")\n",
    "elif work:\n",
    "    print(\"Ready for work ! .. \")\n",
    "else:\n",
    "    print(\"Not Ready for anything..!\")\n"
   ]
  },
  {
   "cell_type": "code",
   "execution_count": 4,
   "metadata": {
    "collapsed": false
   },
   "outputs": [
    {
     "name": "stdout",
     "output_type": "stream",
     "text": [
      "Ready for work ! .. \n"
     ]
    }
   ],
   "source": [
    "play = False\n",
    "work = True\n",
    "\n",
    "if play:\n",
    "    print(\"Ready set go for Play!.. \")\n",
    "elif work:\n",
    "    print(\"Ready for work ! .. \")\n",
    "else:\n",
    "    print(\"Not Ready for anything..!\")"
   ]
  },
  {
   "cell_type": "code",
   "execution_count": 5,
   "metadata": {
    "collapsed": false
   },
   "outputs": [
    {
     "name": "stdout",
     "output_type": "stream",
     "text": [
      "Not Ready for anything..!\n"
     ]
    }
   ],
   "source": [
    "play = False\n",
    "work = False\n",
    "\n",
    "if play:\n",
    "    print(\"Ready set go for Play!.. \")\n",
    "elif work:\n",
    "    print(\"Ready for work ! .. \")\n",
    "else:\n",
    "    print(\"Not Ready for anything..!\")"
   ]
  },
  {
   "cell_type": "code",
   "execution_count": 9,
   "metadata": {
    "collapsed": false
   },
   "outputs": [
    {
     "name": "stdout",
     "output_type": "stream",
     "text": [
      "All Kids are great !\n"
     ]
    }
   ],
   "source": [
    "Kid = 'Melvin'\n",
    "\n",
    "if Kid == 'Edwin':\n",
    "    print(\"Edwin is Handsome !\")\n",
    "elif Kid == 'Edina':\n",
    "    print(\"Edina is Awesome !\")\n",
    "else:\n",
    "    print(\"All Kids are great !\")"
   ]
  },
  {
   "cell_type": "code",
   "execution_count": 10,
   "metadata": {
    "collapsed": false
   },
   "outputs": [
    {
     "name": "stdout",
     "output_type": "stream",
     "text": [
      "Edina is Awesome !\n"
     ]
    }
   ],
   "source": [
    "Kid = 'Edina'\n",
    "\n",
    "if Kid == 'Edwin':\n",
    "    print(\"Edwin is Handsome !\")\n",
    "elif Kid == 'Edina':\n",
    "    print(\"Edina is Awesome !\")\n",
    "else:\n",
    "    print(\"All Kids are great !\")"
   ]
  },
  {
   "cell_type": "code",
   "execution_count": 11,
   "metadata": {
    "collapsed": false
   },
   "outputs": [
    {
     "name": "stdout",
     "output_type": "stream",
     "text": [
      "Melvin is Super !\n"
     ]
    }
   ],
   "source": [
    "Kid = 'Melvin'\n",
    "\n",
    "if Kid == 'Edwin':\n",
    "    print(\"Edwin is Handsome !\")\n",
    "elif Kid == 'Edina':\n",
    "    print(\"Edina is Awesome !\")\n",
    "elif Kid == 'Melvin':\n",
    "    print(\"Melvin is Super !\")\n",
    "else:\n",
    "    print(\"All Kids are great !\")"
   ]
  },
  {
   "cell_type": "code",
   "execution_count": null,
   "metadata": {
    "collapsed": true
   },
   "outputs": [],
   "source": []
  }
 ],
 "metadata": {
  "kernelspec": {
   "display_name": "Python 3",
   "language": "python",
   "name": "python3"
  },
  "language_info": {
   "codemirror_mode": {
    "name": "ipython",
    "version": 3
   },
   "file_extension": ".py",
   "mimetype": "text/x-python",
   "name": "python",
   "nbconvert_exporter": "python",
   "pygments_lexer": "ipython3",
   "version": "3.6.0"
  }
 },
 "nbformat": 4,
 "nbformat_minor": 2
}
